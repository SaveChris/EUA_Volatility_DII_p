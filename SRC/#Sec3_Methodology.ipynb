{
 "cells": [
  {
   "cell_type": "code",
   "execution_count": 1,
   "metadata": {},
   "outputs": [],
   "source": [
    "%reset -f"
   ]
  },
  {
   "cell_type": "code",
   "execution_count": 2,
   "metadata": {},
   "outputs": [],
   "source": [
    "import pickle\n",
    "import numpy as np\n",
    "import pandas as pd\n",
    "import matplotlib.pyplot as plt\n",
    "\n",
    "from sklearn.preprocessing import StandardScaler\n",
    "from statsmodels.tsa.api import VAR\n",
    "\n",
    "from IPython.display import display, Math, Latex\n",
    "\n",
    "import matplotlib.pyplot as plt\n",
    "plt.rcParams['text.usetex'] = True"
   ]
  },
  {
   "cell_type": "code",
   "execution_count": 3,
   "metadata": {},
   "outputs": [],
   "source": [
    "with open('/Users/cristianosalvagnin/Documents/GitHub/EUA_Volatility_DII_p/Data/quadratic_and_linear_XY_to_Z.p', 'rb') as file:\n",
    "    traj = pickle.load(file)"
   ]
  },
  {
   "cell_type": "code",
   "execution_count": 4,
   "metadata": {},
   "outputs": [],
   "source": [
    "scaler = StandardScaler()\n",
    "scaler.fit(traj)\n",
    "traj = scaler.transform(traj)"
   ]
  },
  {
   "cell_type": "code",
   "execution_count": 5,
   "metadata": {},
   "outputs": [],
   "source": [
    "df = pd.DataFrame()\n",
    "df['Z (Target)'] = traj[:,2] # z (Target)\n",
    "df['Y'] = traj[:,1]  # x^2\n",
    "df['X'] = traj[:,0]  # x^1\n",
    "df = df[5000:7902]"
   ]
  },
  {
   "cell_type": "code",
   "execution_count": 6,
   "metadata": {},
   "outputs": [
    {
     "data": {
      "text/html": [
       "<div>\n",
       "<style scoped>\n",
       "    .dataframe tbody tr th:only-of-type {\n",
       "        vertical-align: middle;\n",
       "    }\n",
       "\n",
       "    .dataframe tbody tr th {\n",
       "        vertical-align: top;\n",
       "    }\n",
       "\n",
       "    .dataframe thead th {\n",
       "        text-align: right;\n",
       "    }\n",
       "</style>\n",
       "<table border=\"1\" class=\"dataframe\">\n",
       "  <thead>\n",
       "    <tr style=\"text-align: right;\">\n",
       "      <th></th>\n",
       "      <th>Z (Target)</th>\n",
       "      <th>Y</th>\n",
       "      <th>X</th>\n",
       "    </tr>\n",
       "  </thead>\n",
       "  <tbody>\n",
       "    <tr>\n",
       "      <th>5000</th>\n",
       "      <td>-1.115592</td>\n",
       "      <td>1.621691</td>\n",
       "      <td>0.325623</td>\n",
       "    </tr>\n",
       "    <tr>\n",
       "      <th>5001</th>\n",
       "      <td>0.418250</td>\n",
       "      <td>1.334626</td>\n",
       "      <td>0.674150</td>\n",
       "    </tr>\n",
       "    <tr>\n",
       "      <th>5002</th>\n",
       "      <td>1.003085</td>\n",
       "      <td>-0.027051</td>\n",
       "      <td>-0.461683</td>\n",
       "    </tr>\n",
       "    <tr>\n",
       "      <th>5003</th>\n",
       "      <td>0.112950</td>\n",
       "      <td>-0.011531</td>\n",
       "      <td>-1.416726</td>\n",
       "    </tr>\n",
       "    <tr>\n",
       "      <th>5004</th>\n",
       "      <td>-1.166861</td>\n",
       "      <td>-0.025920</td>\n",
       "      <td>1.345414</td>\n",
       "    </tr>\n",
       "  </tbody>\n",
       "</table>\n",
       "</div>"
      ],
      "text/plain": [
       "      Z (Target)         Y         X\n",
       "5000   -1.115592  1.621691  0.325623\n",
       "5001    0.418250  1.334626  0.674150\n",
       "5002    1.003085 -0.027051 -0.461683\n",
       "5003    0.112950 -0.011531 -1.416726\n",
       "5004   -1.166861 -0.025920  1.345414"
      ]
     },
     "execution_count": 6,
     "metadata": {},
     "output_type": "execute_result"
    }
   ],
   "source": [
    "df.head()"
   ]
  },
  {
   "cell_type": "code",
   "execution_count": 7,
   "metadata": {},
   "outputs": [
    {
     "name": "stdout",
     "output_type": "stream",
     "text": [
      "  Summary of Regression Results   \n",
      "==================================\n",
      "Model:                         VAR\n",
      "Method:                        OLS\n",
      "Date:           Mon, 30, Dec, 2024\n",
      "Time:                     18:34:20\n",
      "--------------------------------------------------------------------\n",
      "No. of Equations:         3.00000    BIC:                  -0.460869\n",
      "Nobs:                     2901.00    HQIC:                 -0.472722\n",
      "Log likelihood:          -11644.7    FPE:                   0.619155\n",
      "AIC:                    -0.479399    Det(Omega_mle):        0.617239\n",
      "--------------------------------------------------------------------\n",
      "Results for equation Z (Target)\n",
      "================================================================================\n",
      "                   coefficient       std. error           t-stat            prob\n",
      "--------------------------------------------------------------------------------\n",
      "L1.Z (Target)         0.478768         0.014036           34.110           0.000\n",
      "L1.Y                  0.002084         0.014178            0.147           0.883\n",
      "L1.X                  0.448049         0.013995           32.015           0.000\n",
      "================================================================================\n",
      "\n",
      "Results for equation Y\n",
      "================================================================================\n",
      "                   coefficient       std. error           t-stat            prob\n",
      "--------------------------------------------------------------------------------\n",
      "L1.Z (Target)         0.003946         0.018384            0.215           0.830\n",
      "L1.Y                  0.005851         0.018570            0.315           0.753\n",
      "L1.X                 -0.002357         0.018330           -0.129           0.898\n",
      "================================================================================\n",
      "\n",
      "Results for equation X\n",
      "================================================================================\n",
      "                   coefficient       std. error           t-stat            prob\n",
      "--------------------------------------------------------------------------------\n",
      "L1.Z (Target)         0.020872         0.018629            1.120           0.263\n",
      "L1.Y                  0.012639         0.018817            0.672           0.502\n",
      "L1.X                  0.006881         0.018575            0.370           0.711\n",
      "================================================================================\n",
      "\n",
      "Correlation matrix of residuals\n",
      "              Z (Target)         Y         X\n",
      "Z (Target)      1.000000 -0.011758 -0.023275\n",
      "Y              -0.011758  1.000000 -0.011177\n",
      "X              -0.023275 -0.011177  1.000000\n",
      "\n",
      "\n",
      "\n"
     ]
    }
   ],
   "source": [
    "model = VAR(df)\n",
    "var_model = model.fit(maxlags=1, trend='n', verbose=True)  # 1 lag\n",
    "print(var_model.summary())"
   ]
  },
  {
   "cell_type": "code",
   "execution_count": 8,
   "metadata": {},
   "outputs": [],
   "source": [
    "target_coef = abs(var_model.params['Z (Target)'])"
   ]
  },
  {
   "cell_type": "code",
   "execution_count": 9,
   "metadata": {},
   "outputs": [
    {
     "data": {
      "text/plain": [
       "Index(['Z (Target)', 'Y', 'X'], dtype='object')"
      ]
     },
     "execution_count": 9,
     "metadata": {},
     "output_type": "execute_result"
    }
   ],
   "source": [
    "target_coef.index.str.replace('L1.', '')\n"
   ]
  },
  {
   "cell_type": "code",
   "execution_count": 10,
   "metadata": {},
   "outputs": [
    {
     "name": "stdout",
     "output_type": "stream",
     "text": [
      "        Variable  VAR Coeff.\n",
      "0  L1.Z (Target)    0.478768\n",
      "1           L1.Y    0.002084\n",
      "2           L1.X    0.448049\n"
     ]
    }
   ],
   "source": [
    "target_coef = target_coef.reset_index()\n",
    "target_coef.columns = ['Variable', 'VAR Coeff.']\n",
    "print(target_coef)"
   ]
  },
  {
   "cell_type": "code",
   "execution_count": 11,
   "metadata": {},
   "outputs": [
    {
     "name": "stdout",
     "output_type": "stream",
     "text": [
      "     Variable  VAR Coeff.\n",
      "0  Z (Target)    0.478768\n",
      "1           Y    0.002084\n",
      "2           X    0.448049\n"
     ]
    }
   ],
   "source": [
    "target_coef['Variable'] = target_coef['Variable'].str.replace('L1.', '')\n",
    "print(target_coef)"
   ]
  },
  {
   "cell_type": "code",
   "execution_count": 12,
   "metadata": {},
   "outputs": [
    {
     "name": "stdout",
     "output_type": "stream",
     "text": [
      "  Excluded Variable  F-Statistic        p-value\n",
      "0        Z (Target)  1163.462970  1.934564e-239\n",
      "1                 Y     0.021610   8.831338e-01\n",
      "2                 X  1024.975751  1.051474e-212\n"
     ]
    }
   ],
   "source": [
    "causality_results = []\n",
    "\n",
    "for var in df.columns:\n",
    "    \n",
    "    causality = var_model.test_causality('Z (Target)', var, kind='f')\n",
    "\n",
    "    causality_results.append({\n",
    "        'Excluded Variable': var,\n",
    "        'F-Statistic': causality.test_statistic,\n",
    "        'p-value': causality.pvalue\n",
    "    })\n",
    "\n",
    "causality_results_df = pd.DataFrame(causality_results)\n",
    "print(causality_results_df)"
   ]
  },
  {
   "cell_type": "code",
   "execution_count": 13,
   "metadata": {},
   "outputs": [],
   "source": [
    "with open('/Users/cristianosalvagnin/Documents/GitHub/EUA_Volatility_DII_p/Data/weights_toymodel1_consecutivesamples.p', 'rb') as file:\n",
    "    DII_toy = pickle.load(file)"
   ]
  },
  {
   "cell_type": "code",
   "execution_count": 14,
   "metadata": {},
   "outputs": [
    {
     "name": "stdout",
     "output_type": "stream",
     "text": [
      "   DII Coeff.\n",
      "0    0.068844\n",
      "1    0.137873\n",
      "2    0.079066\n"
     ]
    }
   ],
   "source": [
    "df_DII_toy = pd.DataFrame(DII_toy)\n",
    "df_DII_toy.columns = ['DII Coeff.']\n",
    "print(df_DII_toy)"
   ]
  },
  {
   "cell_type": "code",
   "execution_count": 15,
   "metadata": {},
   "outputs": [
    {
     "name": "stdout",
     "output_type": "stream",
     "text": [
      "     Variable  DII Coeff.\n",
      "0           X    0.068844\n",
      "1           Y    0.137873\n",
      "2  Z (Target)    0.079066\n"
     ]
    }
   ],
   "source": [
    "df_DII_toy['Variable'] = ['X', 'Y', 'Z (Target)']\n",
    "df_DII_toy = df_DII_toy[['Variable', 'DII Coeff.']]\n",
    "print(df_DII_toy)"
   ]
  },
  {
   "cell_type": "code",
   "execution_count": 16,
   "metadata": {},
   "outputs": [
    {
     "name": "stdout",
     "output_type": "stream",
     "text": [
      "     Variable  DII Coeff.\n",
      "2  Z (Target)    0.079066\n",
      "1           Y    0.137873\n",
      "0           X    0.068844\n"
     ]
    }
   ],
   "source": [
    "df_DII_toy = df_DII_toy[::-1]\n",
    "print(df_DII_toy)"
   ]
  },
  {
   "cell_type": "code",
   "execution_count": 17,
   "metadata": {},
   "outputs": [
    {
     "name": "stdout",
     "output_type": "stream",
     "text": [
      "     Variable  VAR Coeff.  DII Coeff.\n",
      "0  Z (Target)    0.478768    0.079066\n",
      "1           Y    0.002084    0.137873\n",
      "2           X    0.448049    0.068844\n"
     ]
    }
   ],
   "source": [
    "merged_df = pd.merge(target_coef, df_DII_toy, on='Variable', how='inner')\n",
    "print(merged_df)"
   ]
  },
  {
   "cell_type": "code",
   "execution_count": 18,
   "metadata": {},
   "outputs": [
    {
     "name": "stdout",
     "output_type": "stream",
     "text": [
      "     Variable  F-Statistic\n",
      "0  Z (Target)  1163.462970\n",
      "1           Y     0.021610\n",
      "2           X  1024.975751\n"
     ]
    }
   ],
   "source": [
    "causality_results_df = causality_results_df.drop(columns=['p-value'])\n",
    "causality_results_df.columns = ['Variable', 'F-Statistic']\n",
    "print(causality_results_df)"
   ]
  },
  {
   "cell_type": "code",
   "execution_count": 19,
   "metadata": {},
   "outputs": [
    {
     "name": "stdout",
     "output_type": "stream",
     "text": [
      "[ 8.72077295  5.68063442 10.21191397]\n"
     ]
    }
   ],
   "source": [
    "with open('/Users/cristianosalvagnin/Documents/GitHub/EUA_Volatility_DII_p/Data/IGs_toymodel1_consecutivesamples.p', 'rb') as file:\n",
    "    IG_toy = pickle.load(file)\n",
    "\n",
    "print(IG_toy)"
   ]
  },
  {
   "cell_type": "code",
   "execution_count": 20,
   "metadata": {},
   "outputs": [
    {
     "name": "stdout",
     "output_type": "stream",
     "text": [
      "   IG Coeff.\n",
      "0   8.720773\n",
      "1   5.680634\n",
      "2  10.211914\n"
     ]
    }
   ],
   "source": [
    "df_IG_toy = pd.DataFrame(IG_toy)\n",
    "df_IG_toy.columns = ['IG Coeff.']\n",
    "print(df_IG_toy)"
   ]
  },
  {
   "cell_type": "code",
   "execution_count": 21,
   "metadata": {},
   "outputs": [
    {
     "name": "stdout",
     "output_type": "stream",
     "text": [
      "     Variable  IG Coeff.\n",
      "0           X   8.720773\n",
      "1           Y   5.680634\n",
      "2  Z (Target)  10.211914\n"
     ]
    }
   ],
   "source": [
    "df_IG_toy['Variable'] = ['X', 'Y', 'Z (Target)']\n",
    "df_IG_toy = df_IG_toy[['Variable', 'IG Coeff.']]\n",
    "print(df_IG_toy)"
   ]
  },
  {
   "cell_type": "code",
   "execution_count": 22,
   "metadata": {},
   "outputs": [
    {
     "name": "stdout",
     "output_type": "stream",
     "text": [
      "     Variable  IG Coeff.\n",
      "2  Z (Target)  10.211914\n",
      "1           Y   5.680634\n",
      "0           X   8.720773\n"
     ]
    }
   ],
   "source": [
    "df_IG_toy = df_IG_toy[::-1]\n",
    "print(df_IG_toy)"
   ]
  },
  {
   "cell_type": "code",
   "execution_count": 23,
   "metadata": {},
   "outputs": [
    {
     "name": "stdout",
     "output_type": "stream",
     "text": [
      "     Variable  F-Statistic  IG Coeff.\n",
      "0  Z (Target)  1163.462970  10.211914\n",
      "1           Y     0.021610   5.680634\n",
      "2           X  1024.975751   8.720773\n"
     ]
    }
   ],
   "source": [
    "merged_df_2 = pd.merge(causality_results_df, df_IG_toy, on='Variable', how='inner')\n",
    "print(merged_df_2)"
   ]
  },
  {
   "cell_type": "code",
   "execution_count": 24,
   "metadata": {},
   "outputs": [],
   "source": [
    "variables = target_coef['Variable']\n",
    "indices = np.arange(len(variables))\n",
    "bar_width = 0.3"
   ]
  },
  {
   "cell_type": "code",
   "execution_count": 25,
   "metadata": {},
   "outputs": [
    {
     "data": {
      "image/png": "[encoded data removed]",
      "text/plain": [
       "<Figure size 1200x1000 with 4 Axes>"
      ]
     },
     "metadata": {},
     "output_type": "display_data"
    }
   ],
   "source": [
    "fig, axes = plt.subplots(1, 2, figsize=(12, 10))\n",
    "\n",
    "bar_kwargs = {\"edgecolor\": \"black\", \"linewidth\": 1.2}\n",
    "\n",
    "ax1 = axes[0]\n",
    "ax2 = ax1.twiny()\n",
    "\n",
    "bar1 = ax1.barh(\n",
    "    indices - bar_width / 2,\n",
    "    target_coef[\"VAR Coeff.\"], \n",
    "    bar_width, \n",
    "    color='tab:blue', \n",
    "    label=\"VAR Weights\",\n",
    "    **bar_kwargs\n",
    ")\n",
    "\n",
    "bar2 = ax2.barh(\n",
    "    indices + bar_width / 2,\n",
    "    df_DII_toy[\"DII Coeff.\"], \n",
    "    bar_width, \n",
    "    color='tab:orange', \n",
    "    label=\"DII Weights\",\n",
    "    **bar_kwargs\n",
    ")\n",
    "\n",
    "ax1.set_xlabel(\"VAR Weights\", fontsize=16)\n",
    "ax2.set_xlabel(\"DII Weights\", fontsize=16)\n",
    "ax1.set_yticks(indices)\n",
    "ax1.set_yticklabels(variables, fontsize=14)\n",
    "ax1.invert_yaxis()\n",
    "ax1.grid(axis='x', linestyle='--', alpha=0.7)\n",
    "\n",
    "ax1.tick_params(axis='x', labelsize=14)\n",
    "ax2.tick_params(axis='x', labelsize=14)\n",
    "\n",
    "variables = causality_results_df['Variable']\n",
    "ax3 = axes[1]\n",
    "ax4 = ax3.twiny()\n",
    "\n",
    "bar3 = ax3.barh(\n",
    "    indices - bar_width / 2,\n",
    "    causality_results_df[\"F-Statistic\"], \n",
    "    bar_width, \n",
    "    color='tab:blue', \n",
    "    label=\"F-Statistic\",\n",
    "    **bar_kwargs\n",
    ")\n",
    "\n",
    "bar4 = ax4.barh(\n",
    "    indices + bar_width / 2,\n",
    "    df_IG_toy[\"IG Coeff.\"], \n",
    "    bar_width, \n",
    "    color='tab:orange', \n",
    "    label=\"Imbalance Gain\",\n",
    "    **bar_kwargs\n",
    ")\n",
    "\n",
    "ax3.set_xlabel(\"F-Statistic\", fontsize=16)\n",
    "ax4.set_xlabel(\"Imbalance Gain\", fontsize=16)\n",
    "ax3.set_yticks(indices)\n",
    "ax3.set_yticklabels(variables, fontsize=14)\n",
    "ax3.invert_yaxis()\n",
    "ax3.grid(axis='x', linestyle='--', alpha=0.7)\n",
    "\n",
    "ax3.tick_params(axis='x', labelsize=14)\n",
    "ax4.tick_params(axis='x', labelsize=14)\n",
    "\n",
    "handles_left = [bar1, bar2]\n",
    "labels_left = [\"VAR Weights\", \"DII Weights\"]\n",
    "handles_right = [bar3, bar4]\n",
    "labels_right = [\"F-Statistic\", \"Imbalance Gain\"]\n",
    "\n",
    "axes[0].legend(\n",
    "    handles_left, labels_left, loc='center left', bbox_to_anchor=(1.1, 0.5), fontsize=12, frameon=False\n",
    ")\n",
    "axes[1].legend(\n",
    "    handles_right, labels_right, loc='center left', bbox_to_anchor=(1.1, 0.5), fontsize=12, frameon=False\n",
    ")\n",
    "\n",
    "plt.tight_layout(rect=[0, 0.1, 1, 0.5])\n",
    "plt.show()\n"
   ]
  },
  {
   "cell_type": "code",
   "execution_count": 26,
   "metadata": {},
   "outputs": [
    {
     "name": "stderr",
     "output_type": "stream",
     "text": [
      "<>:56: SyntaxWarning: invalid escape sequence '\\%'\n",
      "<>:61: SyntaxWarning: invalid escape sequence '\\%'\n",
      "<>:74: SyntaxWarning: invalid escape sequence '\\%'\n",
      "<>:56: SyntaxWarning: invalid escape sequence '\\%'\n",
      "<>:61: SyntaxWarning: invalid escape sequence '\\%'\n",
      "<>:74: SyntaxWarning: invalid escape sequence '\\%'\n",
      "/var/folders/n3/rjkcm_2n3lj8mx3d7mkrnpb40000gn/T/ipykernel_10860/4196845417.py:56: SyntaxWarning: invalid escape sequence '\\%'\n",
      "  label=\"Imbalance Gain (\\%)\",\n",
      "/var/folders/n3/rjkcm_2n3lj8mx3d7mkrnpb40000gn/T/ipykernel_10860/4196845417.py:61: SyntaxWarning: invalid escape sequence '\\%'\n",
      "  ax4.set_xlabel(\"Imbalance Gain (\\%)\", fontsize=16)\n",
      "/var/folders/n3/rjkcm_2n3lj8mx3d7mkrnpb40000gn/T/ipykernel_10860/4196845417.py:74: SyntaxWarning: invalid escape sequence '\\%'\n",
      "  labels_right = [\"F-Statistic\", \"Imbalance Gain (\\%)\"]\n"
     ]
    },
    {
     "data": {
      "image/png": "[encoded data removed]",
      "text/plain": [
       "<Figure size 1200x1000 with 4 Axes>"
      ]
     },
     "metadata": {},
     "output_type": "display_data"
    }
   ],
   "source": [
    "fig, axes = plt.subplots(1, 2, figsize=(12, 10))\n",
    "\n",
    "bar_kwargs = {\"edgecolor\": \"black\", \"linewidth\": 1.2}\n",
    "\n",
    "ax1 = axes[0]\n",
    "ax2 = ax1.twiny()\n",
    "\n",
    "bar1 = ax1.barh(\n",
    "    indices - bar_width / 2,\n",
    "    target_coef[\"VAR Coeff.\"], \n",
    "    bar_width, \n",
    "    color='tab:blue', \n",
    "    label=\"VAR Weights\",\n",
    "    **bar_kwargs\n",
    ")\n",
    "\n",
    "bar2 = ax2.barh(\n",
    "    indices + bar_width / 2,\n",
    "    df_DII_toy[\"DII Coeff.\"], \n",
    "    bar_width, \n",
    "    color='tab:orange', \n",
    "    label=\"DII Weights\",\n",
    "    **bar_kwargs\n",
    ")\n",
    "\n",
    "ax1.set_xlabel(\"VAR Weights\", fontsize=16)\n",
    "ax2.set_xlabel(\"DII Weights\", fontsize=16)\n",
    "\n",
    "y_labels = [r\"$z$ (Target)\", r\"$x^{2}$\", r\"$x^{1}$\"]\n",
    "ax1.set_yticks(indices)\n",
    "ax1.set_yticklabels(y_labels, fontsize=14)\n",
    "ax1.invert_yaxis()\n",
    "ax1.grid(axis='x', linestyle='--', alpha=0.7)\n",
    "\n",
    "ax1.tick_params(axis='x', labelsize=14)\n",
    "ax2.tick_params(axis='x', labelsize=14)\n",
    "\n",
    "variables = causality_results_df['Variable']\n",
    "ax3 = axes[1]\n",
    "ax4 = ax3.twiny()\n",
    "\n",
    "bar3 = ax3.barh(\n",
    "    indices - bar_width / 2,\n",
    "    causality_results_df[\"F-Statistic\"], \n",
    "    bar_width, \n",
    "    color='tab:blue', \n",
    "    label=\"F-Statistic\",\n",
    "    **bar_kwargs\n",
    ")\n",
    "\n",
    "bar4 = ax4.barh(\n",
    "    indices + bar_width / 2,\n",
    "    df_IG_toy[\"IG Coeff.\"], \n",
    "    bar_width, \n",
    "    color='tab:orange', \n",
    "    label=\"Imbalance Gain (\\%)\",\n",
    "    **bar_kwargs\n",
    ")\n",
    "\n",
    "ax3.set_xlabel(\"F-Statistic\", fontsize=16)\n",
    "ax4.set_xlabel(\"Imbalance Gain (\\%)\", fontsize=16)\n",
    "\n",
    "ax3.set_yticks(indices)\n",
    "ax3.set_yticklabels(y_labels, fontsize=14)\n",
    "ax3.invert_yaxis()\n",
    "ax3.grid(axis='x', linestyle='--', alpha=0.7)\n",
    "\n",
    "ax3.tick_params(axis='x', labelsize=14)\n",
    "ax4.tick_params(axis='x', labelsize=14)\n",
    "\n",
    "handles_left = [bar1, bar2]\n",
    "labels_left = [\"VAR Weights\", \"DII Weights\"]\n",
    "handles_right = [bar3, bar4]\n",
    "labels_right = [\"F-Statistic\", \"Imbalance Gain (\\%)\"]\n",
    "\n",
    "axes[0].legend(\n",
    "    handles_left, labels_left, loc='center left', bbox_to_anchor=(1.1, 0.5), fontsize=12, frameon=False\n",
    ")\n",
    "axes[1].legend(\n",
    "    handles_right, labels_right, loc='center left', bbox_to_anchor=(1.1, 0.5), fontsize=12, frameon=False\n",
    ")\n",
    "\n",
    "plt.tight_layout(rect=[0, 0.1, 1, 0.5])\n",
    "plt.show()"
   ]
  },
  {
   "cell_type": "markdown",
   "metadata": {},
   "source": [
    "***"
   ]
  },
  {
   "cell_type": "code",
   "execution_count": 27,
   "metadata": {},
   "outputs": [],
   "source": [
    "%reset -f"
   ]
  },
  {
   "cell_type": "code",
   "execution_count": 28,
   "metadata": {},
   "outputs": [],
   "source": [
    "import pickle\n",
    "import numpy as np\n",
    "import pandas as pd\n",
    "import matplotlib.pyplot as plt\n",
    "\n",
    "from sklearn.preprocessing import StandardScaler\n",
    "from statsmodels.tsa.api import VAR\n",
    "\n",
    "from IPython.display import display, Math, Latex\n",
    "\n",
    "import matplotlib.pyplot as plt\n",
    "plt.rcParams['text.usetex'] = True"
   ]
  },
  {
   "cell_type": "code",
   "execution_count": 29,
   "metadata": {},
   "outputs": [],
   "source": [
    "with open('/Users/cristianosalvagnin/Documents/GitHub/EUA_Volatility_DII_p/Data/confounder_quadratic_Y_to_XZ_v3.p', 'rb') as file:\n",
    "    traj = pickle.load(file)"
   ]
  },
  {
   "cell_type": "code",
   "execution_count": 30,
   "metadata": {},
   "outputs": [],
   "source": [
    "scaler = StandardScaler()\n",
    "scaler.fit(traj)\n",
    "traj = scaler.transform(traj)"
   ]
  },
  {
   "cell_type": "code",
   "execution_count": 31,
   "metadata": {},
   "outputs": [],
   "source": [
    "df = pd.DataFrame()\n",
    "df['Z (Target)'] = traj[:,2]\n",
    "df['Y'] = traj[:,1]\n",
    "df['X'] = traj[:,0]\n",
    "df = df[5000:7902]"
   ]
  },
  {
   "cell_type": "code",
   "execution_count": 32,
   "metadata": {},
   "outputs": [
    {
     "data": {
      "text/html": [
       "<div>\n",
       "<style scoped>\n",
       "    .dataframe tbody tr th:only-of-type {\n",
       "        vertical-align: middle;\n",
       "    }\n",
       "\n",
       "    .dataframe tbody tr th {\n",
       "        vertical-align: top;\n",
       "    }\n",
       "\n",
       "    .dataframe thead th {\n",
       "        text-align: right;\n",
       "    }\n",
       "</style>\n",
       "<table border=\"1\" class=\"dataframe\">\n",
       "  <thead>\n",
       "    <tr style=\"text-align: right;\">\n",
       "      <th></th>\n",
       "      <th>Z (Target)</th>\n",
       "      <th>Y</th>\n",
       "      <th>X</th>\n",
       "    </tr>\n",
       "  </thead>\n",
       "  <tbody>\n",
       "    <tr>\n",
       "      <th>5000</th>\n",
       "      <td>-0.806489</td>\n",
       "      <td>1.376605</td>\n",
       "      <td>-0.520916</td>\n",
       "    </tr>\n",
       "    <tr>\n",
       "      <th>5001</th>\n",
       "      <td>0.083899</td>\n",
       "      <td>1.913730</td>\n",
       "      <td>0.647094</td>\n",
       "    </tr>\n",
       "    <tr>\n",
       "      <th>5002</th>\n",
       "      <td>1.111190</td>\n",
       "      <td>1.320204</td>\n",
       "      <td>1.575082</td>\n",
       "    </tr>\n",
       "    <tr>\n",
       "      <th>5003</th>\n",
       "      <td>1.118611</td>\n",
       "      <td>0.915787</td>\n",
       "      <td>0.208570</td>\n",
       "    </tr>\n",
       "    <tr>\n",
       "      <th>5004</th>\n",
       "      <td>0.222619</td>\n",
       "      <td>0.622449</td>\n",
       "      <td>0.238512</td>\n",
       "    </tr>\n",
       "  </tbody>\n",
       "</table>\n",
       "</div>"
      ],
      "text/plain": [
       "      Z (Target)         Y         X\n",
       "5000   -0.806489  1.376605 -0.520916\n",
       "5001    0.083899  1.913730  0.647094\n",
       "5002    1.111190  1.320204  1.575082\n",
       "5003    1.118611  0.915787  0.208570\n",
       "5004    0.222619  0.622449  0.238512"
      ]
     },
     "execution_count": 32,
     "metadata": {},
     "output_type": "execute_result"
    }
   ],
   "source": [
    "df.head()"
   ]
  },
  {
   "cell_type": "code",
   "execution_count": 33,
   "metadata": {},
   "outputs": [
    {
     "name": "stdout",
     "output_type": "stream",
     "text": [
      "  Summary of Regression Results   \n",
      "==================================\n",
      "Model:                         VAR\n",
      "Method:                        OLS\n",
      "Date:           Mon, 30, Dec, 2024\n",
      "Time:                     18:34:22\n",
      "--------------------------------------------------------------------\n",
      "No. of Equations:         3.00000    BIC:                   -1.72881\n",
      "Nobs:                     2901.00    HQIC:                  -1.74066\n",
      "Log likelihood:          -9805.51    FPE:                   0.174237\n",
      "AIC:                     -1.74734    Det(Omega_mle):        0.173698\n",
      "--------------------------------------------------------------------\n",
      "Results for equation Z (Target)\n",
      "================================================================================\n",
      "                   coefficient       std. error           t-stat            prob\n",
      "--------------------------------------------------------------------------------\n",
      "L1.Z (Target)         0.498362         0.017566           28.370           0.000\n",
      "L1.Y                  0.014695         0.014274            1.029           0.303\n",
      "L1.X                  0.215879         0.017282           12.492           0.000\n",
      "================================================================================\n",
      "\n",
      "Results for equation Y\n",
      "================================================================================\n",
      "                   coefficient       std. error           t-stat            prob\n",
      "--------------------------------------------------------------------------------\n",
      "L1.Z (Target)         0.002083         0.016310            0.128           0.898\n",
      "L1.Y                  0.700564         0.013253           52.861           0.000\n",
      "L1.X                 -0.002158         0.016046           -0.134           0.893\n",
      "================================================================================\n",
      "\n",
      "Results for equation X\n",
      "================================================================================\n",
      "                   coefficient       std. error           t-stat            prob\n",
      "--------------------------------------------------------------------------------\n",
      "L1.Z (Target)         0.010849         0.019830            0.547           0.584\n",
      "L1.Y                  0.022587         0.016113            1.402           0.161\n",
      "L1.X                  0.536258         0.019508           27.489           0.000\n",
      "================================================================================\n",
      "\n",
      "Correlation matrix of residuals\n",
      "              Z (Target)         Y         X\n",
      "Z (Target)      1.000000  0.003797  0.496743\n",
      "Y               0.003797  1.000000  0.003548\n",
      "X               0.496743  0.003548  1.000000\n",
      "\n",
      "\n",
      "\n"
     ]
    }
   ],
   "source": [
    "model = VAR(df)\n",
    "var_model = model.fit(maxlags=1, trend='n', verbose=True)  # 1 lag\n",
    "print(var_model.summary())"
   ]
  },
  {
   "cell_type": "code",
   "execution_count": 34,
   "metadata": {},
   "outputs": [
    {
     "name": "stdout",
     "output_type": "stream",
     "text": [
      "L1.Z (Target)    0.498362\n",
      "L1.Y             0.014695\n",
      "L1.X             0.215879\n",
      "Name: Z (Target), dtype: float64\n"
     ]
    }
   ],
   "source": [
    "target_coef = abs(var_model.params['Z (Target)'])\n",
    "print(target_coef)"
   ]
  },
  {
   "cell_type": "code",
   "execution_count": 35,
   "metadata": {},
   "outputs": [
    {
     "name": "stdout",
     "output_type": "stream",
     "text": [
      "L1.Z (Target)    0.498362\n",
      "L1.Y             0.014695\n",
      "L1.X             0.215879\n",
      "Name: Z (Target), dtype: float64\n"
     ]
    }
   ],
   "source": [
    "target_coef.index.str.replace('L1.', '')\n",
    "print(target_coef)"
   ]
  },
  {
   "cell_type": "code",
   "execution_count": 36,
   "metadata": {},
   "outputs": [
    {
     "name": "stdout",
     "output_type": "stream",
     "text": [
      "        Variable  VAR Coeff.\n",
      "0  L1.Z (Target)    0.498362\n",
      "1           L1.Y    0.014695\n",
      "2           L1.X    0.215879\n"
     ]
    }
   ],
   "source": [
    "target_coef = target_coef.reset_index()\n",
    "target_coef.columns = ['Variable', 'VAR Coeff.']\n",
    "print(target_coef)"
   ]
  },
  {
   "cell_type": "code",
   "execution_count": 37,
   "metadata": {},
   "outputs": [
    {
     "name": "stdout",
     "output_type": "stream",
     "text": [
      "     Variable  VAR Coeff.\n",
      "0  Z (Target)    0.498362\n",
      "1           Y    0.014695\n",
      "2           X    0.215879\n"
     ]
    }
   ],
   "source": [
    "target_coef['Variable'] = target_coef['Variable'].str.replace('L1.', '')\n",
    "print(target_coef)"
   ]
  },
  {
   "cell_type": "code",
   "execution_count": 38,
   "metadata": {},
   "outputs": [
    {
     "name": "stdout",
     "output_type": "stream",
     "text": [
      "  Excluded Variable  F-Statistic        p-value\n",
      "0        Z (Target)   804.877187  2.061291e-169\n",
      "1                 Y     1.059823   3.032841e-01\n",
      "2                 X   156.042587   1.669953e-35\n"
     ]
    }
   ],
   "source": [
    "causality_results = []\n",
    "\n",
    "for var in df.columns:\n",
    "    \n",
    "    causality = var_model.test_causality('Z (Target)', var, kind='f')\n",
    "\n",
    "    causality_results.append({\n",
    "        'Excluded Variable': var,\n",
    "        'F-Statistic': causality.test_statistic,\n",
    "        'p-value': causality.pvalue\n",
    "    })\n",
    "\n",
    "causality_results_df = pd.DataFrame(causality_results)\n",
    "print(causality_results_df)"
   ]
  },
  {
   "cell_type": "code",
   "execution_count": 39,
   "metadata": {},
   "outputs": [],
   "source": [
    "with open('/Users/cristianosalvagnin/Documents/GitHub/EUA_Volatility_DII_p/Data/weights_toymodel2_consecutivesamples.p', 'rb') as file:\n",
    "    DII_toy = pickle.load(file)"
   ]
  },
  {
   "cell_type": "code",
   "execution_count": 40,
   "metadata": {},
   "outputs": [
    {
     "name": "stdout",
     "output_type": "stream",
     "text": [
      "   DII Coeff.\n",
      "0    0.000000\n",
      "1    0.147146\n",
      "2    0.091368\n"
     ]
    }
   ],
   "source": [
    "df_DII_toy = pd.DataFrame(DII_toy)\n",
    "df_DII_toy.columns = ['DII Coeff.']\n",
    "print(df_DII_toy)"
   ]
  },
  {
   "cell_type": "code",
   "execution_count": 41,
   "metadata": {},
   "outputs": [
    {
     "name": "stdout",
     "output_type": "stream",
     "text": [
      "     Variable  DII Coeff.\n",
      "0           X    0.000000\n",
      "1           Y    0.147146\n",
      "2  Z (Target)    0.091368\n"
     ]
    }
   ],
   "source": [
    "df_DII_toy['Variable'] = ['X', 'Y', 'Z (Target)']\n",
    "df_DII_toy = df_DII_toy[['Variable', 'DII Coeff.']]\n",
    "print(df_DII_toy)"
   ]
  },
  {
   "cell_type": "code",
   "execution_count": 42,
   "metadata": {},
   "outputs": [
    {
     "name": "stdout",
     "output_type": "stream",
     "text": [
      "     Variable  DII Coeff.\n",
      "2  Z (Target)    0.091368\n",
      "1           Y    0.147146\n",
      "0           X    0.000000\n"
     ]
    }
   ],
   "source": [
    "df_DII_toy = df_DII_toy[::-1]\n",
    "print(df_DII_toy)"
   ]
  },
  {
   "cell_type": "code",
   "execution_count": 43,
   "metadata": {},
   "outputs": [
    {
     "name": "stdout",
     "output_type": "stream",
     "text": [
      "     Variable  VAR Coeff.  DII Coeff.\n",
      "0  Z (Target)    0.498362    0.091368\n",
      "1           Y    0.014695    0.147146\n",
      "2           X    0.215879    0.000000\n"
     ]
    }
   ],
   "source": [
    "merged_df = pd.merge(target_coef, df_DII_toy, on='Variable', how='inner')\n",
    "print(merged_df)"
   ]
  },
  {
   "cell_type": "code",
   "execution_count": 44,
   "metadata": {},
   "outputs": [
    {
     "name": "stdout",
     "output_type": "stream",
     "text": [
      "     Variable  F-Statistic\n",
      "0  Z (Target)   804.877187\n",
      "1           Y     1.059823\n",
      "2           X   156.042587\n"
     ]
    }
   ],
   "source": [
    "causality_results_df = causality_results_df.drop(columns=['p-value'])\n",
    "causality_results_df.columns = ['Variable', 'F-Statistic']\n",
    "print(causality_results_df)"
   ]
  },
  {
   "cell_type": "code",
   "execution_count": 45,
   "metadata": {},
   "outputs": [
    {
     "name": "stdout",
     "output_type": "stream",
     "text": [
      "[4.85665148e-05 1.13677006e+01 1.35568097e+01]\n"
     ]
    }
   ],
   "source": [
    "with open('/Users/cristianosalvagnin/Documents/GitHub/EUA_Volatility_DII_p/Data/IGs_toymodel2_consecutivesamples.p', 'rb') as file:\n",
    "    IG_toy = pickle.load(file)\n",
    "\n",
    "print(IG_toy)"
   ]
  },
  {
   "cell_type": "code",
   "execution_count": 46,
   "metadata": {},
   "outputs": [
    {
     "name": "stdout",
     "output_type": "stream",
     "text": [
      "   IG Coeff.\n",
      "0   0.000049\n",
      "1  11.367701\n",
      "2  13.556810\n"
     ]
    }
   ],
   "source": [
    "df_IG_toy = pd.DataFrame(IG_toy)\n",
    "df_IG_toy.columns = ['IG Coeff.']\n",
    "print(df_IG_toy)"
   ]
  },
  {
   "cell_type": "code",
   "execution_count": 47,
   "metadata": {},
   "outputs": [
    {
     "name": "stdout",
     "output_type": "stream",
     "text": [
      "     Variable  IG Coeff.\n",
      "0           X   0.000049\n",
      "1           Y  11.367701\n",
      "2  Z (Target)  13.556810\n"
     ]
    }
   ],
   "source": [
    "df_IG_toy['Variable'] = ['X', 'Y', 'Z (Target)']\n",
    "df_IG_toy = df_IG_toy[['Variable', 'IG Coeff.']]\n",
    "print(df_IG_toy)"
   ]
  },
  {
   "cell_type": "code",
   "execution_count": 48,
   "metadata": {},
   "outputs": [
    {
     "name": "stdout",
     "output_type": "stream",
     "text": [
      "     Variable  IG Coeff.\n",
      "2  Z (Target)  13.556810\n",
      "1           Y  11.367701\n",
      "0           X   0.000049\n"
     ]
    }
   ],
   "source": [
    "df_IG_toy = df_IG_toy[::-1]\n",
    "print(df_IG_toy)"
   ]
  },
  {
   "cell_type": "code",
   "execution_count": 49,
   "metadata": {},
   "outputs": [
    {
     "name": "stdout",
     "output_type": "stream",
     "text": [
      "     Variable  F-Statistic  IG Coeff.\n",
      "0  Z (Target)   804.877187  13.556810\n",
      "1           Y     1.059823  11.367701\n",
      "2           X   156.042587   0.000049\n"
     ]
    }
   ],
   "source": [
    "merged_df_2 = pd.merge(causality_results_df, df_IG_toy, on='Variable', how='inner')\n",
    "print(merged_df_2)"
   ]
  },
  {
   "cell_type": "code",
   "execution_count": 50,
   "metadata": {},
   "outputs": [],
   "source": [
    "variables = target_coef['Variable']\n",
    "indices = np.arange(len(variables))\n",
    "bar_width = 0.3"
   ]
  },
  {
   "cell_type": "code",
   "execution_count": 51,
   "metadata": {},
   "outputs": [
    {
     "name": "stderr",
     "output_type": "stream",
     "text": [
      "<>:56: SyntaxWarning: invalid escape sequence '\\%'\n",
      "<>:61: SyntaxWarning: invalid escape sequence '\\%'\n",
      "<>:74: SyntaxWarning: invalid escape sequence '\\%'\n",
      "<>:56: SyntaxWarning: invalid escape sequence '\\%'\n",
      "<>:61: SyntaxWarning: invalid escape sequence '\\%'\n",
      "<>:74: SyntaxWarning: invalid escape sequence '\\%'\n",
      "/var/folders/n3/rjkcm_2n3lj8mx3d7mkrnpb40000gn/T/ipykernel_10860/4196845417.py:56: SyntaxWarning: invalid escape sequence '\\%'\n",
      "  label=\"Imbalance Gain (\\%)\",\n",
      "/var/folders/n3/rjkcm_2n3lj8mx3d7mkrnpb40000gn/T/ipykernel_10860/4196845417.py:61: SyntaxWarning: invalid escape sequence '\\%'\n",
      "  ax4.set_xlabel(\"Imbalance Gain (\\%)\", fontsize=16)\n",
      "/var/folders/n3/rjkcm_2n3lj8mx3d7mkrnpb40000gn/T/ipykernel_10860/4196845417.py:74: SyntaxWarning: invalid escape sequence '\\%'\n",
      "  labels_right = [\"F-Statistic\", \"Imbalance Gain (\\%)\"]\n"
     ]
    },
    {
     "data": {
      "image/png": "[encoded data removed]",
      "text/plain": [
       "<Figure size 1200x1000 with 4 Axes>"
      ]
     },
     "metadata": {},
     "output_type": "display_data"
    }
   ],
   "source": [
    "fig, axes = plt.subplots(1, 2, figsize=(12, 10))\n",
    "\n",
    "bar_kwargs = {\"edgecolor\": \"black\", \"linewidth\": 1.2}\n",
    "\n",
    "ax1 = axes[0]\n",
    "ax2 = ax1.twiny()\n",
    "\n",
    "bar1 = ax1.barh(\n",
    "    indices - bar_width / 2,\n",
    "    target_coef[\"VAR Coeff.\"], \n",
    "    bar_width, \n",
    "    color='tab:blue', \n",
    "    label=\"VAR Weights\",\n",
    "    **bar_kwargs\n",
    ")\n",
    "\n",
    "bar2 = ax2.barh(\n",
    "    indices + bar_width / 2,\n",
    "    df_DII_toy[\"DII Coeff.\"], \n",
    "    bar_width, \n",
    "    color='tab:orange', \n",
    "    label=\"DII Weights\",\n",
    "    **bar_kwargs\n",
    ")\n",
    "\n",
    "ax1.set_xlabel(\"VAR Weights\", fontsize=16)\n",
    "ax2.set_xlabel(\"DII Weights\", fontsize=16)\n",
    "\n",
    "y_labels = [r\"$z$ (Target)\", r\"$x^{2}$\", r\"$x^{1}$\"]\n",
    "ax1.set_yticks(indices)\n",
    "ax1.set_yticklabels(y_labels, fontsize=14)\n",
    "ax1.invert_yaxis()\n",
    "ax1.grid(axis='x', linestyle='--', alpha=0.7)\n",
    "\n",
    "ax1.tick_params(axis='x', labelsize=14)\n",
    "ax2.tick_params(axis='x', labelsize=14)\n",
    "\n",
    "variables = causality_results_df['Variable']\n",
    "ax3 = axes[1]\n",
    "ax4 = ax3.twiny()\n",
    "\n",
    "bar3 = ax3.barh(\n",
    "    indices - bar_width / 2,\n",
    "    causality_results_df[\"F-Statistic\"], \n",
    "    bar_width, \n",
    "    color='tab:blue', \n",
    "    label=\"F-Statistic\",\n",
    "    **bar_kwargs\n",
    ")\n",
    "\n",
    "bar4 = ax4.barh(\n",
    "    indices + bar_width / 2,\n",
    "    df_IG_toy[\"IG Coeff.\"], \n",
    "    bar_width, \n",
    "    color='tab:orange', \n",
    "    label=\"Imbalance Gain (\\%)\",\n",
    "    **bar_kwargs\n",
    ")\n",
    "\n",
    "ax3.set_xlabel(\"F-Statistic\", fontsize=16)\n",
    "ax4.set_xlabel(\"Imbalance Gain (\\%)\", fontsize=16)\n",
    "\n",
    "ax3.set_yticks(indices)\n",
    "ax3.set_yticklabels(y_labels, fontsize=14)\n",
    "ax3.invert_yaxis()\n",
    "ax3.grid(axis='x', linestyle='--', alpha=0.7)\n",
    "\n",
    "ax3.tick_params(axis='x', labelsize=14)\n",
    "ax4.tick_params(axis='x', labelsize=14)\n",
    "\n",
    "handles_left = [bar1, bar2]\n",
    "labels_left = [\"VAR Weights\", \"DII Weights\"]\n",
    "handles_right = [bar3, bar4]\n",
    "labels_right = [\"F-Statistic\", \"Imbalance Gain (\\%)\"]\n",
    "\n",
    "axes[0].legend(\n",
    "    handles_left, labels_left, loc='center left', bbox_to_anchor=(1.1, 0.5), fontsize=12, frameon=False\n",
    ")\n",
    "axes[1].legend(\n",
    "    handles_right, labels_right, loc='center left', bbox_to_anchor=(1.1, 0.5), fontsize=12, frameon=False\n",
    ")\n",
    "\n",
    "plt.tight_layout(rect=[0, 0.1, 1, 0.5])\n",
    "plt.show()"
   ]
  },
  {
   "cell_type": "markdown",
   "metadata": {},
   "source": [
    "***"
   ]
  }
 ],
 "metadata": {
  "kernelspec": {
   "display_name": "Python 3",
   "language": "python",
   "name": "python3"
  },
  "language_info": {
   "codemirror_mode": {
    "name": "ipython",
    "version": 3
   },
   "file_extension": ".py",
   "mimetype": "text/x-python",
   "name": "python",
   "nbconvert_exporter": "python",
   "pygments_lexer": "ipython3",
   "version": "3.12.4"
  }
 },
 "nbformat": 4,
 "nbformat_minor": 2
}
