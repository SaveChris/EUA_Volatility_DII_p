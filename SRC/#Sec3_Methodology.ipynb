{
 "cells": [
  {
   "cell_type": "code",
   "execution_count": 3,
   "metadata": {},
   "outputs": [],
   "source": [
    "%reset -f"
   ]
  },
  {
   "cell_type": "code",
   "execution_count": 4,
   "metadata": {},
   "outputs": [],
   "source": [
    "import pickle\n",
    "import numpy as np\n",
    "import pandas as pd\n",
    "import matplotlib.pyplot as plt\n",
    "\n",
    "from sklearn.preprocessing import StandardScaler\n",
    "from statsmodels.tsa.api import VAR"
   ]
  },
  {
   "cell_type": "code",
   "execution_count": 5,
   "metadata": {},
   "outputs": [],
   "source": [
    "with open('/Users/cristianosalvagnin/Documents/GitHub/EUA_Volatility_DII_p/Data/quadratic_and_linear_XY_to_Z.p', 'rb') as file:\n",
    "    traj = pickle.load(file)"
   ]
  },
  {
   "cell_type": "code",
   "execution_count": 6,
   "metadata": {},
   "outputs": [],
   "source": [
    "scaler = StandardScaler()\n",
    "scaler.fit(traj)\n",
    "traj = scaler.transform(traj)"
   ]
  },
  {
   "cell_type": "code",
   "execution_count": 7,
   "metadata": {},
   "outputs": [],
   "source": [
    "df = pd.DataFrame()\n",
    "df['Z (Target)'] = traj[:,2]\n",
    "df['Y'] = traj[:,1]\n",
    "df['X'] = traj[:,0]\n",
    "df = df[5000:7902]"
   ]
  },
  {
   "cell_type": "code",
   "execution_count": 8,
   "metadata": {},
   "outputs": [
    {
     "name": "stdout",
     "output_type": "stream",
     "text": [
      "  Summary of Regression Results   \n",
      "==================================\n",
      "Model:                         VAR\n",
      "Method:                        OLS\n",
      "Date:           Fri, 27, Dec, 2024\n",
      "Time:                     10:35:17\n",
      "--------------------------------------------------------------------\n",
      "No. of Equations:         3.00000    BIC:                  -0.460869\n",
      "Nobs:                     2901.00    HQIC:                 -0.472722\n",
      "Log likelihood:          -11644.7    FPE:                   0.619155\n",
      "AIC:                    -0.479399    Det(Omega_mle):        0.617239\n",
      "--------------------------------------------------------------------\n",
      "Results for equation Z (Target)\n",
      "================================================================================\n",
      "                   coefficient       std. error           t-stat            prob\n",
      "--------------------------------------------------------------------------------\n",
      "L1.Z (Target)         0.478768         0.014036           34.110           0.000\n",
      "L1.Y                  0.002084         0.014178            0.147           0.883\n",
      "L1.X                  0.448049         0.013995           32.015           0.000\n",
      "================================================================================\n",
      "\n",
      "Results for equation Y\n",
      "================================================================================\n",
      "                   coefficient       std. error           t-stat            prob\n",
      "--------------------------------------------------------------------------------\n",
      "L1.Z (Target)         0.003946         0.018384            0.215           0.830\n",
      "L1.Y                  0.005851         0.018570            0.315           0.753\n",
      "L1.X                 -0.002357         0.018330           -0.129           0.898\n",
      "================================================================================\n",
      "\n",
      "Results for equation X\n",
      "================================================================================\n",
      "                   coefficient       std. error           t-stat            prob\n",
      "--------------------------------------------------------------------------------\n",
      "L1.Z (Target)         0.020872         0.018629            1.120           0.263\n",
      "L1.Y                  0.012639         0.018817            0.672           0.502\n",
      "L1.X                  0.006881         0.018575            0.370           0.711\n",
      "================================================================================\n",
      "\n",
      "Correlation matrix of residuals\n",
      "              Z (Target)         Y         X\n",
      "Z (Target)      1.000000 -0.011758 -0.023275\n",
      "Y              -0.011758  1.000000 -0.011177\n",
      "X              -0.023275 -0.011177  1.000000\n",
      "\n",
      "\n",
      "\n"
     ]
    }
   ],
   "source": [
    "model = VAR(df)\n",
    "var_model = model.fit(maxlags=1, trend='n', verbose=True)  # 1 lag\n",
    "print(var_model.summary())"
   ]
  },
  {
   "cell_type": "code",
   "execution_count": 9,
   "metadata": {},
   "outputs": [],
   "source": [
    "target_coef = abs(var_model.params['Z (Target)'])\n"
   ]
  },
  {
   "cell_type": "code",
   "execution_count": 10,
   "metadata": {},
   "outputs": [
    {
     "data": {
      "text/plain": [
       "Index(['Z (Target)', 'Y', 'X'], dtype='object')"
      ]
     },
     "execution_count": 10,
     "metadata": {},
     "output_type": "execute_result"
    }
   ],
   "source": [
    "target_coef.index.str.replace('L1.', '')\n"
   ]
  },
  {
   "cell_type": "code",
   "execution_count": 11,
   "metadata": {},
   "outputs": [
    {
     "name": "stdout",
     "output_type": "stream",
     "text": [
      "        Variable  VAR Coeff.\n",
      "0  L1.Z (Target)    0.478768\n",
      "1           L1.Y    0.002084\n",
      "2           L1.X    0.448049\n"
     ]
    }
   ],
   "source": [
    "target_coef = target_coef.reset_index()\n",
    "target_coef.columns = ['Variable', 'VAR Coeff.']\n",
    "print(target_coef)"
   ]
  },
  {
   "cell_type": "code",
   "execution_count": 12,
   "metadata": {},
   "outputs": [
    {
     "name": "stdout",
     "output_type": "stream",
     "text": [
      "     Variable  VAR Coeff.\n",
      "0  Z (Target)    0.478768\n",
      "1           Y    0.002084\n",
      "2           X    0.448049\n"
     ]
    }
   ],
   "source": [
    "target_coef['Variable'] = target_coef['Variable'].str.replace('L1.', '')\n",
    "print(target_coef)"
   ]
  },
  {
   "cell_type": "code",
   "execution_count": 13,
   "metadata": {},
   "outputs": [
    {
     "name": "stdout",
     "output_type": "stream",
     "text": [
      "  Excluded Variable  F-Statistic        p-value\n",
      "0        Z (Target)  1163.462970  1.934564e-239\n",
      "1                 Y     0.021610   8.831338e-01\n",
      "2                 X  1024.975751  1.051474e-212\n"
     ]
    }
   ],
   "source": [
    "causality_results = []\n",
    "\n",
    "for var in df.columns:\n",
    "    \n",
    "    causality = var_model.test_causality('Z (Target)', var, kind='f')\n",
    "\n",
    "    causality_results.append({\n",
    "        'Excluded Variable': var,\n",
    "        'F-Statistic': causality.test_statistic,\n",
    "        'p-value': causality.pvalue\n",
    "    })\n",
    "\n",
    "causality_results_df = pd.DataFrame(causality_results)\n",
    "print(causality_results_df)"
   ]
  },
  {
   "cell_type": "code",
   "execution_count": 14,
   "metadata": {},
   "outputs": [],
   "source": [
    "with open('/Users/cristianosalvagnin/Documents/GitHub/EUA_Volatility_DII_p/Data/weights_toymodel.p', 'rb') as file:\n",
    "    DII_toy = pickle.load(file)"
   ]
  },
  {
   "cell_type": "code",
   "execution_count": 15,
   "metadata": {},
   "outputs": [
    {
     "name": "stdout",
     "output_type": "stream",
     "text": [
      "   DII Coeff.\n",
      "0    0.068511\n",
      "1    0.135314\n",
      "2    0.083644\n"
     ]
    }
   ],
   "source": [
    "df_DII_toy = pd.DataFrame(DII_toy)\n",
    "df_DII_toy.columns = ['DII Coeff.']\n",
    "print(df_DII_toy)"
   ]
  },
  {
   "cell_type": "code",
   "execution_count": 16,
   "metadata": {},
   "outputs": [
    {
     "name": "stdout",
     "output_type": "stream",
     "text": [
      "     Variable  DII Coeff.\n",
      "0  Z (Target)    0.068511\n",
      "1           Y    0.135314\n",
      "2           X    0.083644\n"
     ]
    }
   ],
   "source": [
    "df_DII_toy['Variable'] = ['Z (Target)', 'Y', 'X']\n",
    "df_DII_toy = df_DII_toy[['Variable', 'DII Coeff.']]\n",
    "print(df_DII_toy)"
   ]
  },
  {
   "cell_type": "code",
   "execution_count": 17,
   "metadata": {},
   "outputs": [
    {
     "name": "stdout",
     "output_type": "stream",
     "text": [
      "     Variable  VAR Coeff.  DII Coeff.\n",
      "0  Z (Target)    0.478768    0.068511\n",
      "1           Y    0.002084    0.135314\n",
      "2           X    0.448049    0.083644\n"
     ]
    }
   ],
   "source": [
    "merged_df = pd.merge(target_coef, df_DII_toy, on='Variable', how='inner')\n",
    "print(merged_df)"
   ]
  },
  {
   "cell_type": "code",
   "execution_count": 18,
   "metadata": {},
   "outputs": [
    {
     "name": "stdout",
     "output_type": "stream",
     "text": [
      "     Variable  F-Statistic\n",
      "0  Z (Target)  1163.462970\n",
      "1           Y     0.021610\n",
      "2           X  1024.975751\n"
     ]
    }
   ],
   "source": [
    "causality_results_df = causality_results_df.drop(columns=['p-value'])\n",
    "causality_results_df.columns = ['Variable', 'F-Statistic']\n",
    "print(causality_results_df)"
   ]
  },
  {
   "cell_type": "code",
   "execution_count": 19,
   "metadata": {},
   "outputs": [
    {
     "name": "stdout",
     "output_type": "stream",
     "text": [
      "[22.49288125 27.72234305 29.15142412]\n"
     ]
    }
   ],
   "source": [
    "with open('/Users/cristianosalvagnin/Documents/GitHub/EUA_Volatility_DII_p/Data/IGs_toymodel.p', 'rb') as file:\n",
    "    IG_toy = pickle.load(file)\n",
    "\n",
    "print(IG_toy)"
   ]
  },
  {
   "cell_type": "code",
   "execution_count": 20,
   "metadata": {},
   "outputs": [
    {
     "name": "stdout",
     "output_type": "stream",
     "text": [
      "   IG Coeff.\n",
      "0  22.492881\n",
      "1  27.722343\n",
      "2  29.151424\n"
     ]
    }
   ],
   "source": [
    "df_IG_toy = pd.DataFrame(IG_toy)\n",
    "df_IG_toy.columns = ['IG Coeff.']\n",
    "print(df_IG_toy)"
   ]
  },
  {
   "cell_type": "code",
   "execution_count": 21,
   "metadata": {},
   "outputs": [
    {
     "name": "stdout",
     "output_type": "stream",
     "text": [
      "     Variable  IG Coeff.\n",
      "0  Z (Target)  22.492881\n",
      "1           Y  27.722343\n",
      "2           X  29.151424\n"
     ]
    }
   ],
   "source": [
    "df_IG_toy['Variable'] = ['Z (Target)', 'Y', 'X']\n",
    "df_IG_toy = df_IG_toy[['Variable', 'IG Coeff.']]\n",
    "print(df_IG_toy)"
   ]
  },
  {
   "cell_type": "code",
   "execution_count": 22,
   "metadata": {},
   "outputs": [
    {
     "name": "stdout",
     "output_type": "stream",
     "text": [
      "     Variable  F-Statistic  IG Coeff.\n",
      "0  Z (Target)  1163.462970  22.492881\n",
      "1           Y     0.021610  27.722343\n",
      "2           X  1024.975751  29.151424\n"
     ]
    }
   ],
   "source": [
    "merged_df_2 = pd.merge(causality_results_df, df_IG_toy, on='Variable', how='inner')\n",
    "print(merged_df_2)"
   ]
  },
  {
   "cell_type": "code",
   "execution_count": 23,
   "metadata": {},
   "outputs": [
    {
     "data": {
      "image/png": "[encoded data removed]",
      "text/plain": [
       "<Figure size 1000x500 with 4 Axes>"
      ]
     },
     "metadata": {},
     "output_type": "display_data"
    }
   ],
   "source": [
    "variables = target_coef['Variable']\n",
    "indices = np.arange(len(variables))\n",
    "bar_width = 0.3\n",
    "\n",
    "fig, axes = plt.subplots(1, 2, figsize=(10, 5))\n",
    "\n",
    "bar_kwargs = {\"edgecolor\": \"black\", \"linewidth\": 1.2}\n",
    "\n",
    "ax1 = axes[0]\n",
    "ax2 = ax1.twiny()\n",
    "\n",
    "ax1.barh(\n",
    "    indices - bar_width / 2,\n",
    "    target_coef[\"VAR Coeff.\"], \n",
    "    bar_width, \n",
    "    color='tab:blue', \n",
    "    label=\"VAR Coeff.\",\n",
    "    **bar_kwargs\n",
    ")\n",
    "\n",
    "ax2.barh(\n",
    "    indices + bar_width / 2,\n",
    "    df_DII_toy[\"DII Coeff.\"], \n",
    "    bar_width, \n",
    "    color='deepskyblue', \n",
    "    label=\"DII Coeff.\",\n",
    "    **bar_kwargs\n",
    ")\n",
    "\n",
    "ax1.set_xlabel(\"VAR Coeff.\", fontsize=16)\n",
    "ax2.set_xlabel(\"DII Coeff.\", fontsize=16)\n",
    "ax1.set_yticks(indices)\n",
    "ax1.set_yticklabels(variables, fontsize=16)\n",
    "ax1.invert_yaxis()\n",
    "ax1.grid(axis='x', linestyle='--', alpha=0.7)\n",
    "\n",
    "ax1.tick_params(axis='x', labelsize=16)\n",
    "ax2.tick_params(axis='x', labelsize=16)\n",
    "\n",
    "variables = causality_results_df['Variable']\n",
    "ax3 = axes[1]\n",
    "ax4 = ax3.twiny()\n",
    "\n",
    "ax3.barh(\n",
    "    indices - bar_width / 2,\n",
    "    causality_results_df[\"F-Statistic\"], \n",
    "    bar_width, \n",
    "    color='tab:orange', \n",
    "    label=\"F-Statistic\",\n",
    "    **bar_kwargs\n",
    ")\n",
    "\n",
    "ax4.barh(\n",
    "    indices + bar_width / 2,\n",
    "    df_IG_toy[\"IG Coeff.\"], \n",
    "    bar_width, \n",
    "    color='wheat', \n",
    "    label=\"Imbalance Gain\",\n",
    "    **bar_kwargs\n",
    ")\n",
    "\n",
    "ax3.set_xlabel(\"F-Statistic\", fontsize=16)\n",
    "ax4.set_xlabel(\"Imbalance Gain\", fontsize=16)\n",
    "ax3.set_yticks(indices)\n",
    "ax3.set_yticklabels(variables, fontsize=16)\n",
    "ax3.invert_yaxis()\n",
    "ax3.grid(axis='x', linestyle='--', alpha=0.7)\n",
    "\n",
    "ax3.tick_params(axis='x', labelsize=16)\n",
    "ax4.tick_params(axis='x', labelsize=16)\n",
    "\n",
    "lines1, labels1 = ax1.get_legend_handles_labels()\n",
    "lines2, labels2 = ax2.get_legend_handles_labels()\n",
    "lines3, labels3 = ax3.get_legend_handles_labels()\n",
    "lines4, labels4 = ax4.get_legend_handles_labels()\n",
    "combined_lines = lines1 + lines2 + lines3 + lines4\n",
    "combined_labels = labels1 + labels2 + labels3 + labels4\n",
    "\n",
    "fig.legend(combined_lines, combined_labels, loc='center left', bbox_to_anchor=(1, 0.5), fontsize=16)\n",
    "plt.tight_layout()\n",
    "plt.show()\n"
   ]
  },
  {
   "cell_type": "markdown",
   "metadata": {},
   "source": [
    "***"
   ]
  }
 ],
 "metadata": {
  "kernelspec": {
   "display_name": "Python 3",
   "language": "python",
   "name": "python3"
  },
  "language_info": {
   "codemirror_mode": {
    "name": "ipython",
    "version": 3
   },
   "file_extension": ".py",
   "mimetype": "text/x-python",
   "name": "python",
   "nbconvert_exporter": "python",
   "pygments_lexer": "ipython3",
   "version": "3.12.4"
  }
 },
 "nbformat": 4,
 "nbformat_minor": 2
}
