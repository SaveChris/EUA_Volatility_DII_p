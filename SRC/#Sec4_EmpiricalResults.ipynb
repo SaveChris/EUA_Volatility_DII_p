{
 "cells": [
  {
   "cell_type": "code",
   "execution_count": 1,
   "metadata": {},
   "outputs": [],
   "source": [
    "%reset -f"
   ]
  },
  {
   "cell_type": "code",
   "execution_count": 2,
   "metadata": {},
   "outputs": [],
   "source": [
    "import matplotlib.pyplot as plt\n",
    "import pandas as pd\n",
    "import numpy as np\n",
    "import pickle\n",
    "\n",
    "from statsmodels.graphics.tsaplots import plot_acf\n",
    "from statsmodels.graphics.tsaplots import plot_pacf\n",
    "from statsmodels.tsa.stattools import adfuller\n",
    "from sklearn.preprocessing import StandardScaler\n",
    "from statsmodels.tsa.api import VAR\n",
    "from scipy.stats import linregress"
   ]
  },
  {
   "cell_type": "code",
   "execution_count": 3,
   "metadata": {},
   "outputs": [],
   "source": [
    "df_r = pd.read_excel('/Users/cristianosalvagnin/Documents/GitHub/EUA_Volatility_DII_p/Data/Dataset_EUA_24_Daily_Returns.xlsx')\n",
    "df_r = df_r.drop(columns=['Date'])"
   ]
  },
  {
   "cell_type": "code",
   "execution_count": 4,
   "metadata": {},
   "outputs": [],
   "source": [
    "scaler = StandardScaler()\n",
    "data_r_s = scaler.fit_transform(df_r.iloc[:,:])\n",
    "df_r_s = pd.DataFrame(data_r_s, columns=df_r.columns[:])"
   ]
  },
  {
   "cell_type": "code",
   "execution_count": 5,
   "metadata": {},
   "outputs": [],
   "source": [
    "labels = [\n",
    "    'EUA', 'GPR', 'VSTOXX', 'UncEURUSD', 'UncEURJPY', 'UncEURGBP', 'UncEURCHF',\n",
    "    'NatGas', 'ElecES', 'ElecDE', 'ElecFR', 'CoalFut', 'CuFut', 'Brent',\n",
    "    'AgFut', 'Gold', 'EURUSD', 'EURJPY', 'EURGBP', 'EURCHF', 'WHNewEnergy',\n",
    "    'BbgEnergy', 'SolCEA', 'ESTXElect', 'SEF EU50', 'LC100EU', 'MSCIEnrg',\n",
    "    'ERIX', 'Euronext100', 'IBEX35', 'DAX', 'CAC', 'FTSEmib', 'Bund10y', 'Bond3m'\n",
    "]"
   ]
  },
  {
   "cell_type": "code",
   "execution_count": 6,
   "metadata": {},
   "outputs": [],
   "source": [
    "df_r_s.columns = labels\n",
    "df_r.columns = labels"
   ]
  },
  {
   "cell_type": "code",
   "execution_count": 7,
   "metadata": {},
   "outputs": [],
   "source": [
    "model = VAR(df_r_s)\n",
    "var_model = model.fit(1, trend='n', verbose=True)  # 1 lag\n"
   ]
  },
  {
   "cell_type": "code",
   "execution_count": null,
   "metadata": {},
   "outputs": [],
   "source": [
    "var_model.summary()"
   ]
  },
  {
   "cell_type": "code",
   "execution_count": null,
   "metadata": {},
   "outputs": [],
   "source": [
    "causality_results = []\n",
    "\n",
    "for var in df_r_s.columns:\n",
    "    causality = var_model.test_causality('EUA', var, kind='f')\n",
    "    \n",
    "    causality_results.append({\n",
    "        'Excluded Variable': var,\n",
    "        'F-Statistic': causality.test_statistic,\n",
    "        'p-value': causality.pvalue\n",
    "    })\n",
    "\n",
    "causality_results_df = pd.DataFrame(causality_results)\n",
    "\n",
    "print(causality_results_df)"
   ]
  },
  {
   "cell_type": "code",
   "execution_count": null,
   "metadata": {},
   "outputs": [],
   "source": [
    "causality_results_df = causality_results_df.sort_values(by='F-Statistic', ascending=False)\n",
    "print(causality_results_df)"
   ]
  },
  {
   "cell_type": "code",
   "execution_count": null,
   "metadata": {},
   "outputs": [],
   "source": [
    "eua_var_coef = abs(var_model.params['EUA'])\n",
    "eua_var_coef = eua_var_coef.sort_values(ascending=False)\n",
    "print(eua_var_coef)"
   ]
  },
  {
   "cell_type": "code",
   "execution_count": null,
   "metadata": {},
   "outputs": [],
   "source": [
    "eua_var_coef.index = eua_var_coef.index.str.replace('L1.', '')\n",
    "print(eua_var_coef)"
   ]
  },
  {
   "cell_type": "code",
   "execution_count": null,
   "metadata": {},
   "outputs": [],
   "source": [
    "eua_var_coef = eua_var_coef.reset_index()\n",
    "eua_var_coef.columns = ['Variable', 'VAR Coeff.']\n",
    "print(eua_var_coef)"
   ]
  },
  {
   "cell_type": "code",
   "execution_count": 14,
   "metadata": {},
   "outputs": [],
   "source": [
    "with open('/Users/cristianosalvagnin/Documents/GitHub/EUA_Volatility_DII_p/Data/weights_DII_E1_returns.p', 'rb') as file:\n",
    "    DII_Rets_1 = pickle.load(file)"
   ]
  },
  {
   "cell_type": "code",
   "execution_count": null,
   "metadata": {},
   "outputs": [],
   "source": [
    "df_DII_Rets_1 = pd.DataFrame(DII_Rets_1)\n",
    "df_DII_Rets_1.columns = ['DII Coeff.']\n",
    "print(df_DII_Rets_1)"
   ]
  },
  {
   "cell_type": "code",
   "execution_count": null,
   "metadata": {},
   "outputs": [],
   "source": [
    "df_DII_Rets_1['Variable'] = labels\n",
    "df_DII_Rets_1 = df_DII_Rets_1[['Variable', 'DII Coeff.']]\n",
    "print(df_DII_Rets_1)"
   ]
  },
  {
   "cell_type": "code",
   "execution_count": null,
   "metadata": {},
   "outputs": [],
   "source": [
    "df_DII_Rets_1 = df_DII_Rets_1.sort_values(by='DII Coeff.', ascending=False)\n",
    "print(df_DII_Rets_1)"
   ]
  },
  {
   "cell_type": "code",
   "execution_count": null,
   "metadata": {},
   "outputs": [],
   "source": [
    "merged_df = pd.merge(eua_var_coef, df_DII_Rets_1, on='Variable', how='inner')\n",
    "print(merged_df)"
   ]
  },
  {
   "cell_type": "code",
   "execution_count": null,
   "metadata": {},
   "outputs": [],
   "source": [
    "bold_vars = [\"CoalFut\", \"CAC\", \"IBEX35\", \"ElecFR\", \"Euronext100\"]\n",
    "\n",
    "eua_var_coef[\"Variable\"] = eua_var_coef[\"Variable\"].apply(\n",
    "    lambda x: f\"$\\\\bf{{{x}}}$\" if x in bold_vars else x\n",
    ")\n",
    "\n",
    "df_DII_Rets_1[\"Variable\"] = df_DII_Rets_1[\"Variable\"].apply(\n",
    "    lambda x: f\"$\\\\bf{{{x}}}$\" if x in bold_vars else x\n",
    ")\n",
    "\n",
    "fig, axes = plt.subplots(1, 3, figsize=(16, 8), gridspec_kw={'width_ratios': [1, 1, 2]})\n",
    "\n",
    "bar_kwargs = {\"edgecolor\": \"black\", \"linewidth\": 1.2}\n",
    "\n",
    "axes[0].barh(\n",
    "    eua_var_coef[\"Variable\"], \n",
    "    eua_var_coef[\"VAR Coeff.\"], \n",
    "    color='tab:blue', \n",
    "    **bar_kwargs\n",
    ")\n",
    "axes[0].set_xlabel(\"VAR Coefficients\", fontsize=16)\n",
    "axes[0].invert_yaxis()\n",
    "axes[0].grid(axis='x', linestyle='--', alpha=0.7)\n",
    "axes[0].tick_params(axis='x', labelsize=14)\n",
    "axes[0].tick_params(axis='y', labelsize=14)\n",
    "\n",
    "axes[1].barh(\n",
    "    df_DII_Rets_1[\"Variable\"], \n",
    "    df_DII_Rets_1[\"DII Coeff.\"], \n",
    "    color='tab:orange', \n",
    "    **bar_kwargs\n",
    ")\n",
    "axes[1].set_xlabel(\"DII Coefficients\", fontsize=16)\n",
    "axes[1].invert_yaxis()\n",
    "axes[1].grid(axis='x', linestyle='--', alpha=0.7)\n",
    "axes[1].tick_params(axis='x', labelsize=14)\n",
    "axes[1].tick_params(axis='y', labelsize=14)\n",
    "\n",
    "axes[2].scatter(\n",
    "    merged_df[\"VAR Coeff.\"], \n",
    "    merged_df[\"DII Coeff.\"], \n",
    "    color='tab:pink', \n",
    "    alpha=0.9, s=200, edgecolor='black'\n",
    ")\n",
    "axes[2].set_xlabel(\"VAR Coefficients\", fontsize=16)\n",
    "axes[2].set_ylabel(\"DII Coefficients\", fontsize=16)\n",
    "axes[2].grid(True, linestyle='--', alpha=0.7)\n",
    "plt.xticks(fontsize=14)\n",
    "plt.yticks(fontsize=14)\n",
    "\n",
    "plt.tight_layout()\n",
    "plt.show()\n"
   ]
  },
  {
   "cell_type": "markdown",
   "metadata": {},
   "source": [
    "***"
   ]
  },
  {
   "cell_type": "code",
   "execution_count": null,
   "metadata": {},
   "outputs": [],
   "source": [
    "causality_results_df = causality_results_df.drop(columns=['p-value'])\n",
    "causality_results_df.columns = ['Variable', 'F-Statistic']\n",
    "print(causality_results_df)"
   ]
  },
  {
   "cell_type": "code",
   "execution_count": null,
   "metadata": {},
   "outputs": [],
   "source": [
    "with open('/Users/cristianosalvagnin/Documents/GitHub/EUA_Volatility_DII_p/Data/IG_DII_E1_returns.p', 'rb') as file:\n",
    "    IG_Rets_1 = pickle.load(file)"
   ]
  },
  {
   "cell_type": "code",
   "execution_count": null,
   "metadata": {},
   "outputs": [],
   "source": [
    "df_IG_Rets_1 = pd.DataFrame(IG_Rets_1)\n",
    "df_IG_Rets_1.columns = ['IG Coeff.']\n",
    "print(df_IG_Rets_1)"
   ]
  },
  {
   "cell_type": "code",
   "execution_count": null,
   "metadata": {},
   "outputs": [],
   "source": [
    "df_IG_Rets_1['Variable'] = labels\n",
    "df_IG_Rets_1 = df_IG_Rets_1[['Variable', 'IG Coeff.']]\n",
    "print(df_IG_Rets_1)"
   ]
  },
  {
   "cell_type": "code",
   "execution_count": null,
   "metadata": {},
   "outputs": [],
   "source": [
    "df_IG_Rets_1 = df_IG_Rets_1.sort_values(by='IG Coeff.', ascending=False)\n",
    "print(df_IG_Rets_1)"
   ]
  },
  {
   "cell_type": "code",
   "execution_count": null,
   "metadata": {},
   "outputs": [],
   "source": [
    "merged_df_2 = pd.merge(causality_results_df, df_IG_Rets_1, on='Variable', how='inner')\n",
    "print(merged_df_2)"
   ]
  },
  {
   "cell_type": "code",
   "execution_count": null,
   "metadata": {},
   "outputs": [],
   "source": [
    "bold_vars = [\"IBEX35\", \"CoalFut\", \"Gold\", \"CuFut\"]\n",
    "\n",
    "causality_results_df[\"Variable\"] = causality_results_df[\"Variable\"].apply(\n",
    "    lambda x: f\"$\\\\bf{{{x}}}$\" if x in bold_vars else x\n",
    ")\n",
    "\n",
    "df_IG_Rets_1[\"Variable\"] = df_IG_Rets_1[\"Variable\"].apply(\n",
    "    lambda x: f\"$\\\\bf{{{x}}}$\" if x in bold_vars else x\n",
    ")\n",
    "\n",
    "fig, axes = plt.subplots(1, 3, figsize=(16, 8), gridspec_kw={'width_ratios': [1, 1, 2]})\n",
    "\n",
    "bar_kwargs = {\"edgecolor\": \"black\", \"linewidth\": 1.2}\n",
    "\n",
    "axes[0].barh(\n",
    "    causality_results_df[\"Variable\"], \n",
    "    causality_results_df[\"F-Statistic\"], \n",
    "    color='tab:blue', \n",
    "    **bar_kwargs\n",
    ")\n",
    "\n",
    "axes[0].set_xlabel(\"F-Statistic\", fontsize=16)\n",
    "axes[0].invert_yaxis()\n",
    "axes[0].grid(axis='x', linestyle='--', alpha=0.7)\n",
    "\n",
    "axes[0].tick_params(axis='x', labelsize=14)\n",
    "axes[0].tick_params(axis='y', labelsize=14)\n",
    "\n",
    "axes[1].barh(\n",
    "    df_IG_Rets_1[\"Variable\"], \n",
    "    df_IG_Rets_1[\"IG Coeff.\"], \n",
    "    color='tab:orange', \n",
    "    **bar_kwargs\n",
    ")\n",
    "\n",
    "axes[1].set_xlabel(\"Imbalance Gain\", fontsize=16)\n",
    "axes[1].invert_yaxis()\n",
    "axes[1].grid(axis='x', linestyle='--', alpha=0.7)\n",
    "\n",
    "axes[1].tick_params(axis='x', labelsize=14)\n",
    "axes[1].tick_params(axis='y', labelsize=14)\n",
    "\n",
    "axes[2].scatter(\n",
    "    merged_df_2[\"F-Statistic\"], \n",
    "    merged_df_2[\"IG Coeff.\"], \n",
    "    color='tab:pink', \n",
    "    alpha=0.9, s=200, edgecolor='black'\n",
    ")\n",
    "\n",
    "axes[2].set_xlabel(\"F-Statistic\", fontsize=16)\n",
    "axes[2].set_ylabel(\"Imbalance Gain\", fontsize=16)\n",
    "axes[2].grid(True, linestyle='--', alpha=0.7)\n",
    "\n",
    "plt.xticks(fontsize=14)\n",
    "plt.yticks(fontsize=14)\n",
    "\n",
    "plt.tight_layout()\n",
    "plt.show()"
   ]
  },
  {
   "cell_type": "markdown",
   "metadata": {},
   "source": [
    "***"
   ]
  }
 ],
 "metadata": {
  "kernelspec": {
   "display_name": "Python 3",
   "language": "python",
   "name": "python3"
  },
  "language_info": {
   "codemirror_mode": {
    "name": "ipython",
    "version": 3
   },
   "file_extension": ".py",
   "mimetype": "text/x-python",
   "name": "python",
   "nbconvert_exporter": "python",
   "pygments_lexer": "ipython3",
   "version": "3.12.4"
  }
 },
 "nbformat": 4,
 "nbformat_minor": 2
}
